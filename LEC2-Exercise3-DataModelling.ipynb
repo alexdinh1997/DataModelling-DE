{
 "cells": [
  {
   "cell_type": "code",
   "execution_count": 23,
   "metadata": {},
   "outputs": [],
   "source": [
    "import psycopg2\n"
   ]
  },
  {
   "cell_type": "code",
   "execution_count": 24,
   "metadata": {},
   "outputs": [],
   "source": [
    "try:\n",
    "    conn=psycopg2.connect(\"host=127.0.0.1 dbname=studentdb user=student password=student\")\n",
    "except psycopg2.Error as e:\n",
    "    print(\"Error: could not connect to Postgres database\")\n",
    "    print(e)"
   ]
  },
  {
   "cell_type": "code",
   "execution_count": 25,
   "metadata": {},
   "outputs": [],
   "source": [
    "try:\n",
    "    cur=conn.cursor()\n",
    "except psycopg2.Error as e:\n",
    "    print(\"could not get a cursor to the Database\")\n",
    "    print(e)"
   ]
  },
  {
   "cell_type": "code",
   "execution_count": 26,
   "metadata": {},
   "outputs": [],
   "source": [
    "#set auto commit\n",
    "conn.set_session(autocommit=True)"
   ]
  },
  {
   "cell_type": "markdown",
   "metadata": {},
   "source": [
    "### In this section: we create fact and dimension tables with Schema Table\n",
    "#### a fact table and 3 other dimension tables \n"
   ]
  },
  {
   "cell_type": "code",
   "execution_count": 27,
   "metadata": {},
   "outputs": [],
   "source": [
    "### Create a fact table: customer_transactions with columns: Customer_Id, Store_Id, Spent\n",
    "try:\n",
    "    cur.execute(\"CREATE TABLE IF NOT EXISTS customer_transactions(Customer_Id int, Store_Id int, Spent float)\")\n",
    "except psycopg2.Error as e:\n",
    "    print(\"Error: Issue creating table\")\n",
    "    print(e)\n",
    "### Insert Data\n",
    "try:\n",
    "    cur.execute(\"INSERT INTO customer_transactions(Customer_Id, Store_Id, Spent) \\\n",
    "                VALUES (%s,%s,%s)\", \\\n",
    "               (1,1,20.50))\n",
    "except psycog2.Error as e:\n",
    "    print(\"Error: insert row\")\n",
    "    print(e)"
   ]
  },
  {
   "cell_type": "code",
   "execution_count": 28,
   "metadata": {},
   "outputs": [],
   "source": [
    "### Insert Data\n",
    "try:\n",
    "    cur.execute(\"INSERT INTO customer_transactions(Customer_Id, Store_Id, Spent) \\\n",
    "                VALUES (%s,%s,%s)\", \\\n",
    "               (2,1,35.21))\n",
    "except psycog2.Error as e:\n",
    "    print(\"Error: insert row\")\n",
    "    print(e)"
   ]
  },
  {
   "cell_type": "code",
   "execution_count": 29,
   "metadata": {},
   "outputs": [],
   "source": [
    "### CREAT 3 dimension tables\n",
    "try:\n",
    "    cur.execute(\"CREATE TABLE IF NOT EXISTS customers(Customer_Id int, Name text,Rewards boolean )\")\n",
    "except psycopg2.Error as e:\n",
    "    print(\"Error: Issue creating table\")\n",
    "    print(e)\n",
    "try:\n",
    "    cur.execute(\"CREATE TABLE IF NOT EXISTS items_purchased(Customer_Id int, Item_num int, Item_Name text)\")\n",
    "except psycopg2.Error as e:\n",
    "    print(\"Error: Issue creating table\")\n",
    "    print(e)\n",
    "try:\n",
    "    cur.execute(\"CREATE TABLE IF NOT EXISTS store(Store_Id int, State text)\")\n",
    "except psycopg2.Error as e:\n",
    "    print(\"Error: Issue creating table\")\n",
    "    print(e)"
   ]
  },
  {
   "cell_type": "code",
   "execution_count": 30,
   "metadata": {},
   "outputs": [],
   "source": [
    "### Insert data\n",
    "try:\n",
    "    cur.execute(\"INSERT INTO customers(Customer_Id, Name,Rewards) \\\n",
    "                VALUES (%s,%s,%s)\", \\\n",
    "               (1,\"Amanda\", True))\n",
    "except psycog2.Error as e:\n",
    "    print(\"Error: insert row\")\n",
    "    print(e)\n",
    "try:\n",
    "    cur.execute(\"INSERT INTO customers(Customer_Id, Name,Rewards) \\\n",
    "                VALUES (%s,%s,%s)\", \\\n",
    "               (2,\"Toby\",False))\n",
    "except psycog2.Error as e:\n",
    "    print(\"Error: insert row\")\n",
    "    print(e)\n",
    "try:\n",
    "    cur.execute(\"INSERT INTO items_purchased(Customer_Id, Item_num, Item_Name) \\\n",
    "                VALUES (%s,%s,%s)\", \\\n",
    "               (1,1, \"Rubber Soul\"))\n",
    "except psycog2.Error as e:\n",
    "    print(\"Error: insert row\")\n",
    "    print(e)\n",
    "try:\n",
    "    cur.execute(\"INSERT INTO items_purchased(Customer_Id, Item_num, Item_Name) \\\n",
    "                VALUES (%s,%s,%s)\", \\\n",
    "               (2,3, \"Let It Be\"))\n",
    "except psycog2.Error as e:\n",
    "    print(\"Error: insert row\")\n",
    "    print(e)\n",
    "try:\n",
    "    cur.execute(\"INSERT INTO store(Store_Id, State) \\\n",
    "                VALUES (%s,%s)\", \\\n",
    "               (1, \"CA\"))\n",
    "except psycog2.Error as e:\n",
    "    print(\"Error: insert row\")\n",
    "    print(e)\n",
    "try:\n",
    "    cur.execute(\"INSERT INTO store(Store_Id, State) \\\n",
    "                VALUES (%s,%s)\", \\\n",
    "               (2, \"WA\"))\n",
    "except psycog2.Error as e:\n",
    "    print(\"Error: insert row\")\n",
    "    print(e)"
   ]
  },
  {
   "cell_type": "markdown",
   "metadata": {},
   "source": [
    "### Query 1: Find all the customer spending more than 30 dollars, where store they bought, location of store, what they bought, if any rewards!!!"
   ]
  },
  {
   "cell_type": "code",
   "execution_count": 31,
   "metadata": {},
   "outputs": [
    {
     "name": "stdout",
     "output_type": "stream",
     "text": [
      "('Toby', 1, 'CA', 'Let It Be', False)\n"
     ]
    }
   ],
   "source": [
    "### cutomers.Name, store.Store_Id,store.State,items_purchased.Item_name,customers.Rewards\n",
    "try:\n",
    "    cur.execute(\"SELECT customers.Name, store.Store_Id,store.State,items_purchased.Item_name,customers.Rewards \\\n",
    "                FROM ((customers JOIN customer_transactions ON customers.Customer_Id = customer_transactions.Customer_Id) JOIN \\\n",
    "                items_purchased ON items_purchased.Customer_Id = customer_transactions.Customer_Id) JOIN \\\n",
    "                store ON store.Store_Id = customer_transactions.Store_Id \\\n",
    "                WHERE customer_transactions.Spent >30;\")\n",
    "except psycopg2.Error as e:\n",
    "    print(\"Error: Select *\")\n",
    "    print(e)\n",
    "row=cur.fetchone()\n",
    "while row:\n",
    "    print(row)\n",
    "    row=cur.fetchone()"
   ]
  },
  {
   "cell_type": "markdown",
   "metadata": {},
   "source": [
    "### Query 2: How much did Customer 2 spend?"
   ]
  },
  {
   "cell_type": "code",
   "execution_count": 32,
   "metadata": {},
   "outputs": [],
   "source": [
    "### customer_id, sum(spent) where customer id=2\n",
    "try:\n",
    "    cur.execute(\"SELECT Customer_Id, SUM(Spent) FROM customer_transactions WHERE Customer_Id=2 GROUP BY Customer_Id;\")\n",
    "except psycopg2.Error as e:\n",
    "    print(\"Error: Select *\")\n",
    "    print(e)"
   ]
  },
  {
   "cell_type": "code",
   "execution_count": 33,
   "metadata": {},
   "outputs": [
    {
     "name": "stdout",
     "output_type": "stream",
     "text": [
      "(2, 35.21)\n"
     ]
    }
   ],
   "source": [
    "row = cur.fetchone()\n",
    "while row:\n",
    "   print(row)\n",
    "   row = cur.fetchone()"
   ]
  },
  {
   "cell_type": "code",
   "execution_count": 34,
   "metadata": {},
   "outputs": [],
   "source": [
    "### Drop tables\n",
    "try:\n",
    "    cur.execute(\"DROP TABLE customer_transactions, customers, items_purchased, store;\")\n",
    "except psycopg2.Error as e:\n",
    "    print(\"Error: Dropping tables\")\n",
    "    print(e)"
   ]
  },
  {
   "cell_type": "code",
   "execution_count": 35,
   "metadata": {},
   "outputs": [],
   "source": [
    "### Close cursor and connection\n",
    "cur.close()\n",
    "conn.close()"
   ]
  },
  {
   "cell_type": "code",
   "execution_count": null,
   "metadata": {},
   "outputs": [],
   "source": []
  }
 ],
 "metadata": {
  "kernelspec": {
   "display_name": "Python 3",
   "language": "python",
   "name": "python3"
  },
  "language_info": {
   "codemirror_mode": {
    "name": "ipython",
    "version": 3
   },
   "file_extension": ".py",
   "mimetype": "text/x-python",
   "name": "python",
   "nbconvert_exporter": "python",
   "pygments_lexer": "ipython3",
   "version": "3.8.5"
  }
 },
 "nbformat": 4,
 "nbformat_minor": 4
}
