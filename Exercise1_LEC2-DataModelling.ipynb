{
 "cells": [
  {
   "cell_type": "code",
   "execution_count": 7,
   "metadata": {},
   "outputs": [],
   "source": [
    "#import the lib\n",
    "import psycopg2"
   ]
  },
  {
   "cell_type": "code",
   "execution_count": 8,
   "metadata": {},
   "outputs": [],
   "source": [
    "try:\n",
    "    conn=psycopg2.connect(\"host=127.0.0.1 dbname=studentdb user=student password=student\")\n",
    "except psycopg2.Error as e:\n",
    "    print(e)\n",
    "#connect cursor    \n",
    "try:\n",
    "    cur=conn.cursor()\n",
    "except psycopg2.Error as e:\n",
    "    print('Error: Could not get the DB')\n",
    "    print(e)\n",
    "#autocommit\n",
    "conn.set_session(autocommit=True)"
   ]
  },
  {
   "cell_type": "code",
   "execution_count": 9,
   "metadata": {},
   "outputs": [],
   "source": [
    "try:\n",
    "    cur.execute(\"CREATE TABLE IF NOT EXISTS music_store(Transaction_Id int,Customer_Name text,Cashier_Name text,Year int,Albums_Purchased text[])\")\n",
    "except psycopg2.Error as e: \n",
    "    print(\"Error: Issue creating table\")\n",
    "    print (e)\n",
    "#add values to table\n",
    "try:\n",
    "    cur.execute(\"INSERT INTO music_store(Transaction_Id,Customer_Name,Cashier_Name,Year,Albums_Purchased) \\\n",
    "                VALUES (%s,%s,%s,%s,%s)\",\n",
    "               (1,'Amanda','Sam',2000,['Rubber Soul','Let It Be']))\n",
    "except psycopg2.Error as e: \n",
    "    print(\"Error: Inserting Rows\")\n",
    "    print (e)\n",
    "    \n",
    "try: cur.execute(\"INSERT INTO music_store(Transaction_Id,Customer_Name,Cashier_Name,Year,Albums_Purchased) \\\n",
    "                VALUES (%s,%s,%s,%s,%s)\",\n",
    "               (2,'Toby','Sam',2000,['My Generation']))\n",
    "except psycopg2.Error as e: \n",
    "    print(\"Error: Inserting Rows\")\n",
    "    print (e)\n",
    "\n",
    "try: cur.execute(\"INSERT INTO music_store(Transaction_Id,Customer_Name,Cashier_Name,Year,Albums_Purchased) \\\n",
    "                VALUES (%s,%s,%s,%s,%s)\",\n",
    "               (3,'Max','Bob',2018,['Meet the Beatles','Help!']))\n",
    "except psycopg2.Error as e: \n",
    "    print(\"Error: Inserting Rows\")\n",
    "    print (e)\n",
    "    "
   ]
  },
  {
   "cell_type": "code",
   "execution_count": 10,
   "metadata": {},
   "outputs": [
    {
     "name": "stdout",
     "output_type": "stream",
     "text": [
      "(1, 'Amanda', 'Sam', 2000, ['Rubber Soul', 'Let It Be'])\n",
      "(2, 'Toby', 'Sam', 2000, ['My Generation'])\n",
      "(3, 'Max', 'Bob', 2018, ['Meet the Beatles', 'Help!'])\n"
     ]
    }
   ],
   "source": [
    "#Generate the rows\n",
    "try: \n",
    "    cur.execute(\"SELECT * FROM music_store;\")\n",
    "except psycopg2.Error as e: \n",
    "    print(\"Error: select *\")\n",
    "    print (e)\n",
    "\n",
    "row = cur.fetchone()\n",
    "while row:\n",
    "   print(row)\n",
    "   row = cur.fetchone()"
   ]
  },
  {
   "cell_type": "markdown",
   "metadata": {},
   "source": [
    "### The above data is not normalized yet. We now reach to the 1st normal form\n",
    "#### By removing any collections or list of data and break up the list of songs into individual rows"
   ]
  },
  {
   "cell_type": "code",
   "execution_count": 14,
   "metadata": {},
   "outputs": [
    {
     "name": "stdout",
     "output_type": "stream",
     "text": [
      "(1, 'Amanda', 'Sam', 2000, 'Rubber Soul')\n",
      "(1, 'Amanda', 'Sam', 2000, 'Let It Be')\n",
      "(2, 'Toby', 'Sam', 2000, 'My Generation')\n",
      "(3, 'Max', 'Bob', 2018, 'Meet the Beatles')\n",
      "(3, 'Max', 'Bob', 2018, 'Help!')\n"
     ]
    }
   ],
   "source": [
    "## TO-DO: Complete the CREATE table statements and INSERT statements\n",
    "\n",
    "try: \n",
    "    cur.execute(\"CREATE TABLE IF NOT EXISTS music_store2 (Transaction_Id int,Customer_Name text,Cashier_Name text,Year int,Albums_Purchased text);\")\n",
    "except psycopg2.Error as e: \n",
    "    print(\"Error: Issue creating table\")\n",
    "    print (e)\n",
    "    \n",
    "try: \n",
    "    cur.execute(\"INSERT INTO music_store2 (Transaction_Id,Customer_Name,Cashier_Name,Year,Albums_Purchased) \\\n",
    "                 VALUES (%s, %s, %s, %s, %s)\", \\\n",
    "                 (1, 'Amanda', 'Sam', 2000, 'Rubber Soul'))\n",
    "except psycopg2.Error as e: \n",
    "    print(\"Error: Inserting Rows\")\n",
    "    print (e)\n",
    "\n",
    "try: \n",
    "    cur.execute(\"INSERT INTO music_store2 (Transaction_Id,Customer_Name,Cashier_Name,Year,Albums_Purchased) \\\n",
    "                 VALUES (%s, %s, %s, %s, %s)\", \\\n",
    "                 (1, 'Amanda', 'Sam', 2000, 'Let It Be'))\n",
    "except psycopg2.Error as e: \n",
    "    print(\"Error: Inserting Rows\")\n",
    "    print (e)\n",
    "    \n",
    "try: \n",
    "    cur.execute(\"INSERT INTO music_store2 (Transaction_Id,Customer_Name,Cashier_Name,Year,Albums_Purchased) \\\n",
    "                 VALUES (%s, %s, %s, %s, %s)\", \\\n",
    "                 (2, 'Toby', 'Sam', 2000, 'My Generation'))\n",
    "except psycopg2.Error as e: \n",
    "    print(\"Error: Inserting Rows\")\n",
    "    print (e)\n",
    "    \n",
    "try: \n",
    "    cur.execute(\"INSERT INTO music_store2 (Transaction_Id,Customer_Name,Cashier_Name,Year,Albums_Purchased) \\\n",
    "                 VALUES (%s, %s, %s, %s, %s)\", \\\n",
    "                 (3, 'Max', 'Bob', 2018, 'Meet the Beatles'))\n",
    "except psycopg2.Error as e: \n",
    "    print(\"Error: Inserting Rows\")\n",
    "    print (e)\n",
    "    \n",
    "try: \n",
    "    cur.execute(\"INSERT INTO music_store2 (Transaction_Id,Customer_Name,Cashier_Name,Year,Albums_Purchased) \\\n",
    "                 VALUES (%s, %s, %s, %s, %s)\", \\\n",
    "                 (3, 'Max', 'Bob', 2018, 'Help!'))\n",
    "except psycopg2.Error as e: \n",
    "    print(\"Error: Inserting Rows\")\n",
    "    print (e)\n",
    "    \n",
    "try: \n",
    "    cur.execute(\"SELECT * FROM music_store2;\")\n",
    "except psycopg2.Error as e: \n",
    "    print(\"Error: select *\")\n",
    "    print (e)\n",
    "\n",
    "row = cur.fetchone()\n",
    "while row:\n",
    "   print(row)\n",
    "   row = cur.fetchone()"
   ]
  },
  {
   "cell_type": "markdown",
   "metadata": {},
   "source": [
    "### 2nd normal form\n",
    "#### Break into 2 tables, transaction and album sold"
   ]
  },
  {
   "cell_type": "code",
   "execution_count": 15,
   "metadata": {
    "scrolled": false
   },
   "outputs": [
    {
     "name": "stdout",
     "output_type": "stream",
     "text": [
      "Table: transactions\n",
      "\n",
      "Error: select *\n",
      "relation \"transactions\" does not exist\n",
      "LINE 1: SELECT * FROM transactions;\n",
      "                      ^\n",
      "\n"
     ]
    },
    {
     "ename": "ProgrammingError",
     "evalue": "no results to fetch",
     "output_type": "error",
     "traceback": [
      "\u001b[0;31m---------------------------------------------------------------------------\u001b[0m",
      "\u001b[0;31mProgrammingError\u001b[0m                          Traceback (most recent call last)",
      "\u001b[0;32m<ipython-input-15-9a83d5442f44>\u001b[0m in \u001b[0;36m<module>\u001b[0;34m\u001b[0m\n\u001b[1;32m     88\u001b[0m     \u001b[0mprint\u001b[0m \u001b[0;34m(\u001b[0m\u001b[0me\u001b[0m\u001b[0;34m)\u001b[0m\u001b[0;34m\u001b[0m\u001b[0;34m\u001b[0m\u001b[0m\n\u001b[1;32m     89\u001b[0m \u001b[0;34m\u001b[0m\u001b[0m\n\u001b[0;32m---> 90\u001b[0;31m \u001b[0mrow\u001b[0m \u001b[0;34m=\u001b[0m \u001b[0mcur\u001b[0m\u001b[0;34m.\u001b[0m\u001b[0mfetchone\u001b[0m\u001b[0;34m(\u001b[0m\u001b[0;34m)\u001b[0m\u001b[0;34m\u001b[0m\u001b[0;34m\u001b[0m\u001b[0m\n\u001b[0m\u001b[1;32m     91\u001b[0m \u001b[0;32mwhile\u001b[0m \u001b[0mrow\u001b[0m\u001b[0;34m:\u001b[0m\u001b[0;34m\u001b[0m\u001b[0;34m\u001b[0m\u001b[0m\n\u001b[1;32m     92\u001b[0m    \u001b[0mprint\u001b[0m\u001b[0;34m(\u001b[0m\u001b[0mrow\u001b[0m\u001b[0;34m)\u001b[0m\u001b[0;34m\u001b[0m\u001b[0;34m\u001b[0m\u001b[0m\n",
      "\u001b[0;31mProgrammingError\u001b[0m: no results to fetch"
     ]
    }
   ],
   "source": [
    "### CREATE 2 TABLES for transaction and album sold\n",
    "try: \n",
    "    cur.execute(\"CREATE TABLE IF NOT EXISTS Transaction (Transaction_Id int,Customer_Name text,Cashier_Name text,Year int);\")\n",
    "except psycopg2.Error as e: \n",
    "    print(\"Error: Issue creating table\")\n",
    "    print (e)\n",
    "    \n",
    "try: \n",
    "    cur.execute(\"CREATE TABLE IF NOT EXISTS albums_sold (Album_Id int, Transaction_Id int, Albums_Purchased text);\")\n",
    "except psycopg2.Error as e: \n",
    "    print(\"Error: Issue creating table\")\n",
    "    print (e)\n",
    " \n",
    "### Make 3 transactions for 3 customer    \n",
    "try: \n",
    "    cur.execute(\"INSERT INTO Transaction (Transaction_Id,Customer_Name,Cashier_Name,Year) \\\n",
    "                 VALUES (%s, %s, %s, %s)\", \\\n",
    "                 (1, 'Amanda', 'Sam', 2000))\n",
    "except psycopg2.Error as e: \n",
    "    print(\"Error: Inserting Rows\")\n",
    "    print (e)\n",
    "    \n",
    "try: \n",
    "    cur.execute(\"INSERT INTO Transaction (Transaction_Id,Customer_Name,Cashier_Name,Year) \\\n",
    "                 VALUES (%s, %s, %s, %s)\", \\\n",
    "                 (2, 'Toby', 'Sam', 2000))\n",
    "except psycopg2.Error as e: \n",
    "    print(\"Error: Inserting Rows\")\n",
    "    print (e)\n",
    "    \n",
    "try: \n",
    "    cur.execute(\"INSERT INTO Transaction (Transaction_Id,Customer_Name,Cashier_Name,Year) \\\n",
    "                 VALUES (%s, %s, %s, %s)\", \\\n",
    "                 (3, 'Max', 'Bob', 2018))\n",
    "except psycopg2.Error as e: \n",
    "    print(\"Error: Inserting Rows\")\n",
    "    print (e)\n",
    "    \n",
    "### Create another table for album sold (here is 5 albums)\n",
    "\n",
    "try: \n",
    "    cur.execute(\"INSERT INTO albums_sold (Album_Id, Transaction_Id, Albums_Purchased) \\\n",
    "                 VALUES (%s, %s, %s)\", \\\n",
    "                 (1,1,'Rubber Soul'))\n",
    "except psycopg2.Error as e: \n",
    "    print(\"Error: Inserting Rows\")\n",
    "    print (e)\n",
    "\n",
    "try: \n",
    "    cur.execute(\"INSERT INTO albums_sold (Album_Id, Transaction_Id, Albums_Purchased) \\\n",
    "                 VALUES (%s, %s, %s)\", \\\n",
    "                 (2,1,'Let It Be'))\n",
    "except psycopg2.Error as e: \n",
    "    print(\"Error: Inserting Rows\")\n",
    "    print (e)\n",
    "\n",
    "try: \n",
    "    cur.execute(\"INSERT INTO albums_sold (Album_Id, Transaction_Id, Albums_Purchased) \\\n",
    "                 VALUES (%s, %s, %s)\", \\\n",
    "                 (3,2,'My Generation'))\n",
    "except psycopg2.Error as e: \n",
    "    print(\"Error: Inserting Rows\")\n",
    "    print (e)\n",
    "\n",
    "try: \n",
    "    cur.execute(\"INSERT INTO albums_sold (Album_Id, Transaction_Id, Albums_Purchased) \\\n",
    "                 VALUES (%s, %s, %s)\", \\\n",
    "                 (4,3,'Meet the Beatles'))\n",
    "except psycopg2.Error as e: \n",
    "    print(\"Error: Inserting Rows\")\n",
    "    print (e)\n",
    "\n",
    "try: \n",
    "    cur.execute(\"INSERT INTO albums_sold (Album_Id, Transaction_Id, Albums_Purchased) \\\n",
    "                 VALUES (%s, %s, %s)\", \\\n",
    "                 (5,3,'Help!'))\n",
    "except psycopg2.Error as e: \n",
    "    print(\"Error: Inserting Rows\")\n",
    "    print (e)\n",
    "    "
   ]
  },
  {
   "cell_type": "markdown",
   "metadata": {},
   "source": [
    "### Already generate tables so I don't want to debug it but fetch tables in the following code lines"
   ]
  },
  {
   "cell_type": "code",
   "execution_count": 16,
   "metadata": {},
   "outputs": [
    {
     "name": "stdout",
     "output_type": "stream",
     "text": [
      "Table: transactions\n",
      "\n",
      "(1, 'Amanda', 'Sam', 2000)\n",
      "(2, 'Toby', 'Sam', 2000)\n",
      "(3, 'Max', 'Bob', 2018)\n",
      "\n",
      "Table: albums_sold\n",
      "\n",
      "(1, 1, 'Rubber Soul')\n",
      "(2, 1, 'Let It Be')\n",
      "(3, 2, 'My Generation')\n",
      "(4, 3, 'Meet the Beatles')\n",
      "(5, 3, 'Help!')\n"
     ]
    }
   ],
   "source": [
    "print(\"Table: transactions\\n\")\n",
    "try: \n",
    "    cur.execute(\"SELECT * FROM Transaction;\")\n",
    "except psycopg2.Error as e: \n",
    "    print(\"Error: select *\")\n",
    "    print (e)\n",
    "\n",
    "row = cur.fetchone()\n",
    "while row:\n",
    "   print(row)\n",
    "   row = cur.fetchone()\n",
    "\n",
    "print(\"\\nTable: albums_sold\\n\")\n",
    "try: \n",
    "    cur.execute(\"SELECT * FROM albums_sold;\")\n",
    "except psycopg2.Error as e: \n",
    "    print(\"Error: select *\")\n",
    "    print (e)\n",
    "row = cur.fetchone()\n",
    "while row:\n",
    "   print(row)\n",
    "   row = cur.fetchone()\n"
   ]
  },
  {
   "cell_type": "markdown",
   "metadata": {},
   "source": [
    "### DO A `JOIN` ON THESE TABLES TO GET ALL INFO IN THE 1NF TABLE"
   ]
  },
  {
   "cell_type": "code",
   "execution_count": 17,
   "metadata": {},
   "outputs": [
    {
     "name": "stdout",
     "output_type": "stream",
     "text": [
      "(1, 'Amanda', 'Sam', 2000, 1, 1, 'Rubber Soul')\n",
      "(1, 'Amanda', 'Sam', 2000, 2, 1, 'Let It Be')\n",
      "(2, 'Toby', 'Sam', 2000, 3, 2, 'My Generation')\n",
      "(3, 'Max', 'Bob', 2018, 4, 3, 'Meet the Beatles')\n",
      "(3, 'Max', 'Bob', 2018, 5, 3, 'Help!')\n"
     ]
    }
   ],
   "source": [
    "### USING JOIN on Transaction and album_sold table\n",
    "try:\n",
    "    cur.execute (\"SELECT * FROM Transaction JOIN\\\n",
    "                    albums_sold on Transaction.Transaction_Id=albums_sold.Transaction_Id;\")\n",
    "except psycopg2.Error as e:\n",
    "    print(\"Error: select*\")\n",
    "    print(e)\n",
    "row=cur.fetchone()\n",
    "while row:\n",
    "    print(row)\n",
    "    row=cur.fetchone()"
   ]
  },
  {
   "cell_type": "markdown",
   "metadata": {},
   "source": [
    "## `3NF (Third normal form)`"
   ]
  },
  {
   "cell_type": "code",
   "execution_count": 27,
   "metadata": {},
   "outputs": [],
   "source": [
    "### we split employee table from Transaction table by create 2 different tables (employee\n",
    "### and transaction_2) and use JOIN to original one\n",
    "\n",
    "### Create transaction_2 and employee\n",
    "try:\n",
    "    cur.execute(\"CREATE TABLE IF NOT EXISTS transaction2(Transaction_Id int,Customer_Name text,Cashier_Id int,Year int);\")\n",
    "    #we remove cashier_name\n",
    "except psycopg2.Error as e:\n",
    "    print(\"Error:Issue creating table\")\n",
    "    print(e)\n",
    "    \n",
    "try:\n",
    "    cur.execute(\"CREATE TABLE IF NOT EXISTS employee(Cashier_Id int, Cashier_Name text);\")\n",
    "except psycopg2.Error as e:\n",
    "    print(\"Error:Issue creating table\")\n",
    "    print(e)\n",
    "\n",
    "### Insert Values to 2 tables\n",
    "try: \n",
    "    cur.execute(\"INSERT INTO transaction2 (Transaction_Id, Customer_Name,Cashier_Id,Year) \\\n",
    "                 VALUES (%s, %s, %s, %s)\", \\\n",
    "                 (1, 'Amanda', 1, 2000))\n",
    "except psycopg2.Error as e: \n",
    "    print(\"Error: Inserting Rows\")\n",
    "    print (e)\n",
    "\n",
    "try: \n",
    "    cur.execute(\"INSERT INTO transaction2 (Transaction_Id, Customer_Name,Cashier_Id,Year) \\\n",
    "                 VALUES (%s, %s, %s, %s)\", \\\n",
    "                 (2, 'Toby', 1, 2000))\n",
    "except psycopg2.Error as e: \n",
    "    print(\"Error: Inserting Rows\")\n",
    "    print (e)\n",
    "\n",
    "try: \n",
    "    cur.execute(\"INSERT INTO transaction2 (Transaction_Id, Customer_Name,Cashier_Id,Year) \\\n",
    "                 VALUES (%s, %s, %s, %s)\", \\\n",
    "                 (3, 'Max', 2, 2018))\n",
    "except psycopg2.Error as e: \n",
    "    print(\"Error: Inserting Rows\")\n",
    "    print (e)\n",
    "\n",
    "try: \n",
    "    cur.execute(\"INSERT INTO employee (Cashier_Id, Cashier_Name) \\\n",
    "                 VALUES (%s, %s)\", \\\n",
    "                 (1,'Sam'))\n",
    "except psycopg2.Error as e: \n",
    "    print(\"Error: Inserting Rows\")\n",
    "    print (e)\n",
    "\n",
    "try: \n",
    "    cur.execute(\"INSERT INTO employee (Cashier_Id, Cashier_Name) \\\n",
    "                 VALUES (%s, %s)\", \\\n",
    "                 (2,'Bob'))\n",
    "except psycopg2.Error as e: \n",
    "    print(\"Error: Inserting Rows\")\n",
    "    print (e)\n",
    "\n",
    "\n",
    "\n",
    "    \n"
   ]
  },
  {
   "cell_type": "code",
   "execution_count": 28,
   "metadata": {},
   "outputs": [
    {
     "name": "stdout",
     "output_type": "stream",
     "text": [
      "Table: transactions2\n",
      "\n",
      "(1, 'Amanda', 1, 2000)\n",
      "(2, 'Toby', 1, 2000)\n",
      "(3, 'Max', 2, 2018)\n",
      "\n",
      "Table: albums_sold\n",
      "\n",
      "(1, 1, 'Rubber Soul')\n",
      "(2, 1, 'Let It Be')\n",
      "(3, 2, 'My Generation')\n",
      "(4, 3, 'Meet the Beatles')\n",
      "(5, 3, 'Help!')\n",
      "\n",
      "Table: employees\n",
      "\n",
      "(1, 'Sam')\n",
      "(2, 'Bob')\n"
     ]
    }
   ],
   "source": [
    "### Fetching 2 new tables\n",
    "print(\"Table: transactions2\\n\")\n",
    "try: \n",
    "    cur.execute(\"SELECT * FROM transaction2;\")\n",
    "except psycopg2.Error as e: \n",
    "    print(\"Error: select *\")\n",
    "    print (e)\n",
    "\n",
    "row = cur.fetchone()\n",
    "while row:\n",
    "   print(row)\n",
    "   row = cur.fetchone()\n",
    "\n",
    "print(\"\\nTable: albums_sold\\n\")\n",
    "try: \n",
    "    cur.execute(\"SELECT * FROM albums_sold;\")\n",
    "except psycopg2.Error as e: \n",
    "    print(\"Error: select *\")\n",
    "    print (e)\n",
    "\n",
    "row = cur.fetchone()\n",
    "while row:\n",
    "   print(row)\n",
    "   row = cur.fetchone()\n",
    "\n",
    "print(\"\\nTable: employees\\n\")\n",
    "try: \n",
    "    cur.execute(\"SELECT * FROM employee;\")\n",
    "except psycopg2.Error as e: \n",
    "    print(\"Error: select *\")\n",
    "    print (e)\n",
    "\n",
    "row = cur.fetchone()\n",
    "while row:\n",
    "   print(row)\n",
    "   row = cur.fetchone()"
   ]
  },
  {
   "cell_type": "code",
   "execution_count": 29,
   "metadata": {},
   "outputs": [
    {
     "name": "stdout",
     "output_type": "stream",
     "text": [
      "(1, 'Amanda', 1, 2000, 1, 'Sam', 1, 1, 'Rubber Soul')\n",
      "(1, 'Amanda', 1, 2000, 1, 'Sam', 2, 1, 'Let It Be')\n",
      "(2, 'Toby', 1, 2000, 1, 'Sam', 3, 2, 'My Generation')\n",
      "(3, 'Max', 2, 2018, 2, 'Bob', 4, 3, 'Meet the Beatles')\n",
      "(3, 'Max', 2, 2018, 2, 'Bob', 5, 3, 'Help!')\n"
     ]
    }
   ],
   "source": [
    "### JOINS 3 TABLES\n",
    "try:\n",
    "    cur.execute(\"SELECT * FROM (transaction2 JOIN employee ON transaction2.Cashier_Id = employee.Cashier_Id)\\\n",
    "                                JOIN albums_sold ON albums_sold.Transaction_Id=transaction2.Transaction_Id;\")\n",
    "except psycopg2.Error as e:\n",
    "    print(\"Error: select *\")\n",
    "    print(e)\n",
    "    \n",
    "row =cur.fetchone()\n",
    "while row:\n",
    "    print(row)\n",
    "    row =cur.fetchone()"
   ]
  },
  {
   "cell_type": "markdown",
   "metadata": {},
   "source": [
    "### We have now normalized of dataset at 3NF"
   ]
  },
  {
   "cell_type": "markdown",
   "metadata": {},
   "source": [
    "We next can drop all tables amd close cursor and connection"
   ]
  },
  {
   "cell_type": "code",
   "execution_count": 30,
   "metadata": {},
   "outputs": [],
   "source": [
    "try:\n",
    "    cur.execute(\"DROP table music_store\")\n",
    "except psycopg2.Error as e:\n",
    "    print(\"Error: Drop\")\n",
    "    print(e)\n",
    "try:\n",
    "    cur.execute(\"DROP table music_store2\")\n",
    "except psycopg2.Error as e:\n",
    "    print(\"Error: Drop\")\n",
    "    print(e)\n",
    "try:\n",
    "    cur.execute(\"DROP table Transaction\")\n",
    "except psycopg2.Error as e:\n",
    "    print(\"Error: Drop\")\n",
    "    print(e)\n",
    "try:\n",
    "    cur.execute(\"DROP table transaction2\")\n",
    "except psycopg2.Error as e:\n",
    "    print(\"Error: Drop\")\n",
    "    print(e)\n",
    "try:\n",
    "    cur.execute(\"DROP table albums_sold\")\n",
    "except psycopg2.Error as e:\n",
    "    print(\"Error: Drop\")\n",
    "    print(e)\n",
    "try:\n",
    "    cur.execute(\"DROP table employee\")\n",
    "except psycopg2.Error as e:\n",
    "    print(\"Error: Drop\")\n",
    "    print(e)"
   ]
  },
  {
   "cell_type": "code",
   "execution_count": 31,
   "metadata": {},
   "outputs": [],
   "source": [
    "cur.close()\n",
    "conn.close()"
   ]
  },
  {
   "cell_type": "code",
   "execution_count": null,
   "metadata": {},
   "outputs": [],
   "source": []
  }
 ],
 "metadata": {
  "kernelspec": {
   "display_name": "Python 3",
   "language": "python",
   "name": "python3"
  },
  "language_info": {
   "codemirror_mode": {
    "name": "ipython",
    "version": 3
   },
   "file_extension": ".py",
   "mimetype": "text/x-python",
   "name": "python",
   "nbconvert_exporter": "python",
   "pygments_lexer": "ipython3",
   "version": "3.8.5"
  }
 },
 "nbformat": 4,
 "nbformat_minor": 4
}
