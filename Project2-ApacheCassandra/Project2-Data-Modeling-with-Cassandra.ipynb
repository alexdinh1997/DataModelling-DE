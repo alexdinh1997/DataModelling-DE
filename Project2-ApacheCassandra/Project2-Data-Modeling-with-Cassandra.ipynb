{
 "cells": [
  {
   "cell_type": "code",
   "execution_count": 7,
   "metadata": {},
   "outputs": [],
   "source": [
    "# Import Python packages \n",
    "import pandas as pd\n",
    "import cassandra\n",
    "import re\n",
    "import os\n",
    "import glob\n",
    "import numpy as np\n",
    "import json\n",
    "import csv"
   ]
  },
  {
   "cell_type": "markdown",
   "metadata": {},
   "source": [
    "#### After import necessary libraries, we reach to create list of filepaths to access into original even_data csv data file"
   ]
  },
  {
   "cell_type": "code",
   "execution_count": 8,
   "metadata": {},
   "outputs": [
    {
     "name": "stdout",
     "output_type": "stream",
     "text": [
      "/Users/alexdinh\n",
      "['/Users/alexdinh/event_data/2018-11-15-events.csv', '/Users/alexdinh/event_data/2018-11-22-events.csv', '/Users/alexdinh/event_data/2018-11-09-events.csv', '/Users/alexdinh/event_data/2018-11-18-events.csv', '/Users/alexdinh/event_data/2018-11-04-events.csv', '/Users/alexdinh/event_data/2018-11-01-events.csv', '/Users/alexdinh/event_data/2018-11-27-events.csv', '/Users/alexdinh/event_data/2018-11-10-events.csv', '/Users/alexdinh/event_data/2018-11-20-events.csv', '/Users/alexdinh/event_data/2018-11-17-events.csv', '/Users/alexdinh/event_data/2018-11-06-events.csv', '/Users/alexdinh/event_data/2018-11-03-events.csv', '/Users/alexdinh/event_data/2018-11-28-events.csv', '/Users/alexdinh/event_data/2018-11-12-events.csv', '/Users/alexdinh/event_data/2018-11-25-events.csv', '/Users/alexdinh/event_data/2018-11-26-events.csv', '/Users/alexdinh/event_data/2018-11-11-events.csv', '/Users/alexdinh/event_data/2018-11-14-events.csv', '/Users/alexdinh/event_data/2018-11-23-events.csv', '/Users/alexdinh/event_data/2018-11-08-events.csv', '/Users/alexdinh/event_data/2018-11-19-events.csv', '/Users/alexdinh/event_data/2018-11-05-events.csv', '/Users/alexdinh/event_data/2018-11-02-events.csv', '/Users/alexdinh/event_data/2018-11-29-events.csv', '/Users/alexdinh/event_data/2018-11-13-events.csv', '/Users/alexdinh/event_data/2018-11-24-events.csv', '/Users/alexdinh/event_data/2018-11-21-events.csv', '/Users/alexdinh/event_data/2018-11-16-events.csv', '/Users/alexdinh/event_data/2018-11-07-events.csv', '/Users/alexdinh/event_data/2018-11-30-events.csv']\n"
     ]
    }
   ],
   "source": [
    "#Check current working directory\n",
    "print(os.getcwd())\n",
    "\n",
    "#Get the  current directory and sub-directory event data (get the path to `event_data` folder)\n",
    "filepath=os.getcwd() + '/event_data'\n",
    "\n",
    "#Create a list of files and collect each filepath\n",
    "for root,dirs, files in os.walk(filepath):\n",
    "    #using glob to Join the filepath and roots with sub-directories\n",
    "    file_path_list = glob.glob(os.path.join(root,'*'))\n",
    "    print(file_path_list)"
   ]
  },
  {
   "cell_type": "markdown",
   "metadata": {},
   "source": [
    "#### Processing files to create the data CSV that will be used for Apache Cassandra tables\n",
    "\n"
   ]
  },
  {
   "cell_type": "code",
   "execution_count": 9,
   "metadata": {
    "scrolled": true
   },
   "outputs": [
    {
     "name": "stdout",
     "output_type": "stream",
     "text": [
      "8056\n",
      "['Harmonia', 'Logged In', 'Ryan', 'M', '0', 'Smith', '655.77751', 'free', 'San Jose-Sunnyvale-Santa Clara, CA', 'PUT', 'NextSong', '1.54102E+12', '583', 'Sehr kosmisch', '200', '1.54224E+12', '26']\n"
     ]
    }
   ],
   "source": [
    "#To generate each file, we create an empty list of rows\n",
    "full_data_rows_list=[]\n",
    "\n",
    "#access to each by each filepath in file_path_list created above\n",
    "for f in file_path_list:\n",
    "    \n",
    "    #reading CSV files\n",
    "    with open(f,'r',encoding ='utf8',newline='') as csvfile:\n",
    "    \n",
    "        #we create a csv reader object \n",
    "        csvreader=csv.reader(csvfile)\n",
    "        next(csvreader)\n",
    "        \n",
    "        #Extract each data row one by one and append it\n",
    "        for line in csvreader:\n",
    "            #print(line)\n",
    "            full_data_rows_list.append(line)\n",
    "\n",
    "#show total number of rows\n",
    "print(len(full_data_rows_list))\n",
    "\n",
    "#show the list: here is the first row\n",
    "print(full_data_rows_list[0])\n",
    "    "
   ]
  },
  {
   "cell_type": "markdown",
   "metadata": {},
   "source": [
    "### Notice: As we can see from above, the output of full_data_rows_list is in String in default. We need to change values to be more equivalent with exact utilisation. e.g with numeric values like length to float, userId to integer etc\n",
    "Datatype in recommendation:\n",
    "- STRING: Artist, last name, first name, gender, song,level,Location\n",
    "- INT: itemInSession, SessionId, UserId\n",
    "- FLOAT: length"
   ]
  },
  {
   "cell_type": "markdown",
   "metadata": {},
   "source": [
    "#### Now, create a small CSV files including several determined rows of data to insert into Apache Cassandra table"
   ]
  },
  {
   "cell_type": "code",
   "execution_count": 13,
   "metadata": {},
   "outputs": [],
   "source": [
    "csv.register_dialect('myDialect',quoting=csv.QUOTE_ALL,skipinitialspace=True)\n",
    "\n",
    "with open('event_datafile_new.csv','w',encoding='utf8',newline='') as f:\n",
    "    writer =csv.writer(f,dialect='myDialect')\n",
    "    writer.writerow(['artist','firstName','gender','itemInSession','lastName','length',\\\n",
    "                'level','location','sessionId','song','userId'])\n",
    "    for row in full_data_rows_list:\n",
    "        if (row[0] == ''):\n",
    "            continue\n",
    "        writer.writerow((row[0], row[2], row[3], row[4], row[5], row[6], row[7], row[8], row[12], row[13], row[16]))\n",
    "\n"
   ]
  },
  {
   "cell_type": "code",
   "execution_count": 14,
   "metadata": {},
   "outputs": [
    {
     "name": "stdout",
     "output_type": "stream",
     "text": [
      "6821\n"
     ]
    }
   ],
   "source": [
    "#check the number of the rows in our csv file\n",
    "with open('event_datafile_new.csv','r',encoding='utf8') as f:\n",
    "    print(sum(1 for line in f))"
   ]
  },
  {
   "cell_type": "markdown",
   "metadata": {},
   "source": [
    "## Complete the Apache Cassandra coding portion of project\n",
    "\n",
    "### After we create a CSV file named Event_datafile_new.csv, with columns:\n",
    "\n",
    "- artist \n",
    "- firstName of user\n",
    "- gender of user\n",
    "- item number in session\n",
    "- last name of user\n",
    "- length of the song\n",
    "- level (paid or free song)\n",
    "- location of the user\n",
    "- sessionId\n",
    "- song title\n",
    "- userId\n",
    "\n",
    "The image below is a screenshot of what the denormalized data should appear like in the <font color=red>**event_datafile_new.csv**</font> after the code above is run:<br>\n",
    "\n",
    "<img src=\"images/image_event_datafile_new.jpg\">"
   ]
  },
  {
   "cell_type": "markdown",
   "metadata": {},
   "source": [
    "### Create a cluster"
   ]
  },
  {
   "cell_type": "code",
   "execution_count": 15,
   "metadata": {},
   "outputs": [],
   "source": [
    "from cassandra.cluster import Cluster\n",
    "try:\n",
    "    cluster=Cluster(['127.0.0.1'])\n",
    "    session = cluster.connect()\n",
    "except Exception as e:\n",
    "    print(e)"
   ]
  },
  {
   "cell_type": "markdown",
   "metadata": {},
   "source": [
    "### Create and connect as keyspace\n"
   ]
  },
  {
   "cell_type": "code",
   "execution_count": 16,
   "metadata": {},
   "outputs": [],
   "source": [
    "try:\n",
    "    session.execute(\"\"\"\n",
    "    create keyspace if not exists proj2\n",
    "    with replication=\n",
    "    {'class':'SimpleStrategy','replication_factor':1}\n",
    "    \"\"\")\n",
    "except Exception as e:\n",
    "    print(e)\n",
    "    \n",
    "#set keyspance\n",
    "try:\n",
    "    session.set_keyspace('proj2')\n",
    "except Exception as e:\n",
    "    print(e)"
   ]
  },
  {
   "cell_type": "markdown",
   "metadata": {},
   "source": [
    "## Create queries to answer questions:\n",
    "\n",
    "### 1. Give me the artist, song title and song's length in the music app history that was heard during  sessionId = 338, and itemInSession  = 4\n",
    "\n",
    "\n",
    "### 2. Give me only the following: name of artist, song (sorted by itemInSession) and user (first and last name) for userid = 10, sessionid = 182\n",
    "    \n",
    "\n",
    "### 3. Give me every user name (first and last) in my music app history who listened to the song 'All Hands Against His Own'\n",
    "\n",
    "\n"
   ]
  },
  {
   "cell_type": "markdown",
   "metadata": {},
   "source": [
    "### Create` artist_record_session` table with\n",
    "- artist varchar\n",
    "- song varchar\n",
    "- length float\n",
    "- sessionId int\n",
    "- itemInSession int\n",
    "- PRIMARY KEY(sessionId,itemInSession)"
   ]
  },
  {
   "cell_type": "code",
   "execution_count": 17,
   "metadata": {},
   "outputs": [],
   "source": [
    "query=\"\"\"\n",
    "CREATE TABLE IF NOT EXISTS artist_record_session(\n",
    "    artist varchar,\n",
    "    song varchar,\n",
    "    length float,\n",
    "    sessionId int,\n",
    "    itemInSession int,\n",
    "    PRIMARY KEY(sessionId,itemInSession)\n",
    "    )\n",
    "\"\"\"\n",
    "try:\n",
    "    session.execute(query)\n",
    "except Exception as e:\n",
    "    print(e)\n",
    "    "
   ]
  },
  {
   "cell_type": "code",
   "execution_count": 18,
   "metadata": {},
   "outputs": [],
   "source": [
    "#Insert values from csv file to cassandra table\n",
    "file='event_datafile_new.csv'\n",
    "\n",
    "with open(file,encoding='utf8') as f:\n",
    "    csvreader =csv.reader(f)\n",
    "    next(csvreader) #skip header \n",
    "    \n",
    "    #Assign the insert statements into `query`\n",
    "    for line in csvreader:\n",
    "        query=\"INSERT INTO artist_record_session(artist ,song ,length,sessionId,itemInSession)\"\n",
    "        query=query+\"VALUES(%s,%s,%s,%s,%s)\"\n",
    "        \n",
    "        #Assign which column element should be assigned for each column in insert statement\n",
    "        \n",
    "        session.execute(query,(line[0],line[9],float(line[5]),int(line[8]),int(line[3])))\n",
    "        "
   ]
  },
  {
   "cell_type": "markdown",
   "metadata": {},
   "source": [
    "### Create  `song_playlist_session` table with:\n",
    "- artist varchar\n",
    "- song varchar\n",
    "- lastName varchar\n",
    "- firstName varchar\n",
    "- userId int\n",
    "- sessionId int\n",
    "- itemInSession int\n",
    "-  PRIMARY KEY: sessionId,userId ,itemInSession with composition key `sessionId,userId`\n",
    "    "
   ]
  },
  {
   "cell_type": "markdown",
   "metadata": {},
   "source": [
    "#### For the creation of `song_playlist_session` for the question 2, we have notice at Sorted By `itemInSession` this could be a Composition keys here with Partition keys of `sessionId` and `userId`, and `itemInSession` is clustering column which can be used for order sorting"
   ]
  },
  {
   "cell_type": "code",
   "execution_count": 19,
   "metadata": {},
   "outputs": [],
   "source": [
    "query=\"\"\"\n",
    "CREATE TABLE IF NOT EXISTS song_playlist_session(\n",
    "    artist varchar,\n",
    "    song varchar,\n",
    "    lastName varchar,\n",
    "    firstName varchar,\n",
    "    userId int,\n",
    "    sessionId int,\n",
    "    itemInSession int,\n",
    "    PRIMARY KEY((sessionId,userId),itemInSession)\n",
    "    )\n",
    "\"\"\"\n",
    "try:\n",
    "    session.execute(query)\n",
    "except Exception as e:\n",
    "    print(e)\n",
    "\n",
    "#Insert values from csv file to cassandra table\n",
    "file='event_datafile_new.csv'\n",
    "\n",
    "with open(file,encoding='utf8') as f:\n",
    "    csvreader =csv.reader(f)\n",
    "    next(csvreader) #skip header \n",
    "    \n",
    "    #Assign the insert statements into `query`\n",
    "    for line in csvreader:\n",
    "        query=\"INSERT INTO song_playlist_session(artist ,song ,lastName,firstName,userId,sessionId,itemInSession)\"\n",
    "        query=query+\"VALUES(%s,%s,%s,%s,%s,%s,%s)\"\n",
    "        \n",
    "        \n",
    "        session.execute(query,(line[0],line[9],line[1],line[4],int(line[10]),int(line[8]),int(line[3])))"
   ]
  },
  {
   "cell_type": "markdown",
   "metadata": {},
   "source": [
    "### Creat `user_record_session` table with:\n",
    "- song varchar\n",
    "- lastName varchar\n",
    "- firstName varchar\n",
    "- userId int\n",
    "- PRIMARY KEY: song(Partition key),userId"
   ]
  },
  {
   "cell_type": "markdown",
   "metadata": {},
   "source": [
    "#### We initiate the Primary key with Partition key `song` and clustering column `userId` due to prevending of overwriting in values. "
   ]
  },
  {
   "cell_type": "code",
   "execution_count": 20,
   "metadata": {},
   "outputs": [],
   "source": [
    "query=\"\"\"\n",
    "CREATE TABLE IF NOT EXISTS user_record_session(\n",
    "    song varchar,\n",
    "    lastName varchar,\n",
    "    firstName varchar,\n",
    "    userId int,\n",
    "    PRIMARY KEY((song),userId)\n",
    "    )\n",
    "\"\"\"\n",
    "try:\n",
    "    session.execute(query)\n",
    "except Exception as e:\n",
    "    print(e)\n",
    "\n",
    "#Insert values from csv file to cassandra table\n",
    "file='event_datafile_new.csv'\n",
    "\n",
    "with open(file,encoding='utf8') as f:\n",
    "    csvreader =csv.reader(f)\n",
    "    next(csvreader) #skip header \n",
    "    \n",
    "    #Assign the insert statements into `query`\n",
    "    for line in csvreader:\n",
    "        query=\"INSERT INTO user_record_session(song ,lastName,firstName,userId)\"\n",
    "        query=query+\"VALUES(%s,%s,%s,%s)\"\n",
    "        \n",
    "        \n",
    "        session.execute(query,(line[9],line[1],line[4],int(line[10])))"
   ]
  },
  {
   "cell_type": "markdown",
   "metadata": {},
   "source": [
    "### Now step by step reaching out all the required questions from the project:\n",
    "#### We will use `SELECT required columns FROM a_table WHERE condition1 AND condition2` to conduct our target"
   ]
  },
  {
   "cell_type": "code",
   "execution_count": 21,
   "metadata": {},
   "outputs": [
    {
     "name": "stdout",
     "output_type": "stream",
     "text": [
      "Faithless Music Matters (Mark Knight Dub) 495.30731201171875\n"
     ]
    }
   ],
   "source": [
    "#q1 Give me the artist, song title and song's length in the music app history that was heard during \n",
    "#sessionId = 338, and itemInSession = 4\n",
    "\n",
    "query=\"\"\"\n",
    "    SELECT artist,song,length FROM artist_record_session \n",
    "    WHERE sessionId = 338\n",
    "    AND itemInSession =4\n",
    "    \"\"\"\n",
    "try:\n",
    "    rows=session.execute(query)\n",
    "except Exception as e:\n",
    "    print(e)\n",
    "\n",
    "for row in rows:\n",
    "    print(row.artist,row.song,row.length)"
   ]
  },
  {
   "cell_type": "code",
   "execution_count": 22,
   "metadata": {},
   "outputs": [
    {
     "name": "stdout",
     "output_type": "stream",
     "text": [
      "Down To The Bone Keep On Keepin' On Cruz Sylvie\n",
      "Three Drives Greece 2000 Cruz Sylvie\n",
      "Sebastien Tellier Kilometer Cruz Sylvie\n",
      "Lonnie Gordon Catch You Baby (Steve Pitron & Max Sanna Radio Edit) Cruz Sylvie\n"
     ]
    }
   ],
   "source": [
    "#q2  Give me only the following: name of artist, song (sorted by itemInSession) and user (first and last name)\\\n",
    "# for userid = 10, sessionid = 182\n",
    "query=\"\"\"\n",
    "    SELECT artist,song,firstName,lastName FROM song_playlist_session \n",
    "    WHERE userId=10\n",
    "    AND sessionId=182\n",
    "    \"\"\"\n",
    "try:\n",
    "    rows=session.execute(query)\n",
    "except Exception as e:\n",
    "    print(e)\n",
    "\n",
    "for row in rows:\n",
    "    print(row.artist,row.song,row.firstname,row.lastname)"
   ]
  },
  {
   "cell_type": "code",
   "execution_count": 23,
   "metadata": {},
   "outputs": [
    {
     "name": "stdout",
     "output_type": "stream",
     "text": [
      "Lynch Jacqueline\n",
      "Levine Tegan\n",
      "Johnson Sara\n"
     ]
    }
   ],
   "source": [
    "#q3 Give me every user name (first and last) in my music app history \n",
    "#who listened to the song 'All Hands Against His Own\n",
    "query=\"\"\"\n",
    "    SELECT firstName,lastName FROM user_record_session\n",
    "    WHERE song='All Hands Against His Own'\n",
    "    \"\"\"\n",
    "try:\n",
    "    rows=session.execute(query)\n",
    "except Exception as e:\n",
    "    print(e)\n",
    "\n",
    "for row in rows:\n",
    "    print(row.firstname,row.lastname)"
   ]
  },
  {
   "cell_type": "code",
   "execution_count": 25,
   "metadata": {},
   "outputs": [
    {
     "name": "stdout",
     "output_type": "stream",
     "text": [
      "Error from server: code=2200 [Invalid query] message=\"unconfigured table artist_record_session\"\n",
      "Error from server: code=2200 [Invalid query] message=\"unconfigured table song_playlist_session\"\n"
     ]
    }
   ],
   "source": [
    "#drop tables and shutdown cluster and session\n",
    "query=\"\"\"\n",
    "drop TABLE artist_record_session\n",
    "\"\"\"\n",
    "try:\n",
    "    session.execute(query)\n",
    "except Exception as e:\n",
    "    print(e)\n",
    "\n",
    "query=\"\"\"\n",
    "drop TABLE song_playlist_session\n",
    "\"\"\"\n",
    "try:\n",
    "    session.execute(query)\n",
    "except Exception as e:\n",
    "    print(e)\n",
    "\n",
    "query=\"\"\"\n",
    "drop TABLE user_record_session\n",
    "\"\"\"\n",
    "try:\n",
    "    session.execute(query)\n",
    "except Exception as e:\n",
    "    print(e)"
   ]
  },
  {
   "cell_type": "code",
   "execution_count": 17,
   "metadata": {},
   "outputs": [],
   "source": [
    "cluster.shutdown()\n",
    "session.shutdown()"
   ]
  },
  {
   "cell_type": "code",
   "execution_count": null,
   "metadata": {},
   "outputs": [],
   "source": []
  }
 ],
 "metadata": {
  "kernelspec": {
   "display_name": "Python 3",
   "language": "python",
   "name": "python3"
  },
  "language_info": {
   "codemirror_mode": {
    "name": "ipython",
    "version": 3
   },
   "file_extension": ".py",
   "mimetype": "text/x-python",
   "name": "python",
   "nbconvert_exporter": "python",
   "pygments_lexer": "ipython3",
   "version": "3.8.5"
  }
 },
 "nbformat": 4,
 "nbformat_minor": 4
}
